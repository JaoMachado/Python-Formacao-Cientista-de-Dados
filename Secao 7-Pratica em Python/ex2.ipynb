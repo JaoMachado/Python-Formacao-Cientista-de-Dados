{
 "cells": [
  {
   "cell_type": "code",
   "execution_count": 3,
   "id": "1818ae82",
   "metadata": {},
   "outputs": [
    {
     "name": "stdout",
     "output_type": "stream",
     "text": [
      "J\n",
      "o\n",
      "a\n",
      "o\n",
      " \n",
      "P\n",
      "e\n",
      "d\n",
      "r\n",
      "o\n",
      " \n",
      "M\n",
      "a\n",
      "c\n",
      "h\n",
      "a\n",
      "d\n",
      "o\n"
     ]
    }
   ],
   "source": [
    "def imprimeVertical(string):\n",
    "    for i in range(0, len(string)):\n",
    "        print(string[i])\n",
    "\n",
    "imprimeVertical(\"Joao Pedro Machado\")"
   ]
  }
 ],
 "metadata": {
  "kernelspec": {
   "display_name": "intArtificial",
   "language": "python",
   "name": "python3"
  },
  "language_info": {
   "codemirror_mode": {
    "name": "ipython",
    "version": 3
   },
   "file_extension": ".py",
   "mimetype": "text/x-python",
   "name": "python",
   "nbconvert_exporter": "python",
   "pygments_lexer": "ipython3",
   "version": "3.13.2"
  }
 },
 "nbformat": 4,
 "nbformat_minor": 5
}
