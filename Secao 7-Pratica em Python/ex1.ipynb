{
 "cells": [
  {
   "cell_type": "code",
   "execution_count": 1,
   "id": "0bc511a1",
   "metadata": {},
   "outputs": [
    {
     "name": "stdout",
     "output_type": "stream",
     "text": [
      "Amplitude: 9\n"
     ]
    }
   ],
   "source": [
    "def amplitude(lista):\n",
    "    print(\"Amplitude:\", max(lista) - min(lista))\n",
    "    \n",
    "\n",
    "lista = [2, 4, 5, 7, 9, 11]\n",
    "\n",
    "amplitude(lista)"
   ]
  }
 ],
 "metadata": {
  "kernelspec": {
   "display_name": "intArtificial",
   "language": "python",
   "name": "python3"
  },
  "language_info": {
   "codemirror_mode": {
    "name": "ipython",
    "version": 3
   },
   "file_extension": ".py",
   "mimetype": "text/x-python",
   "name": "python",
   "nbconvert_exporter": "python",
   "pygments_lexer": "ipython3",
   "version": "3.13.2"
  }
 },
 "nbformat": 4,
 "nbformat_minor": 5
}
