{
 "cells": [
  {
   "cell_type": "code",
   "execution_count": 5,
   "id": "9e709a53",
   "metadata": {},
   "outputs": [
    {
     "name": "stdout",
     "output_type": "stream",
     "text": [
      "O transporte não é aceito devido ao peso\n"
     ]
    }
   ],
   "source": [
    "peso = int(input(\"Digite o peso da carga: \"))\n",
    "\n",
    "if peso <= 10:\n",
    "    print(\"O valor será R$50,00.\")\n",
    "elif peso > 10 and peso <= 20:\n",
    "    print(\"O valor será R$80,00.\")\n",
    "else:\n",
    "    print(\"O transporte não é aceito devido ao peso\")"
   ]
  }
 ],
 "metadata": {
  "kernelspec": {
   "display_name": "intArtificial",
   "language": "python",
   "name": "python3"
  },
  "language_info": {
   "codemirror_mode": {
    "name": "ipython",
    "version": 3
   },
   "file_extension": ".py",
   "mimetype": "text/x-python",
   "name": "python",
   "nbconvert_exporter": "python",
   "pygments_lexer": "ipython3",
   "version": "3.13.2"
  }
 },
 "nbformat": 4,
 "nbformat_minor": 5
}
